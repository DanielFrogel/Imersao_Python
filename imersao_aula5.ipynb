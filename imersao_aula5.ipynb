{
 "cells": [
  {
   "cell_type": "code",
   "execution_count": 2,
   "metadata": {},
   "outputs": [],
   "source": [
    "import pandas as pd\n",
    "import yfinance as yf\n",
    "import matplotlib.pyplot as plt\n",
    "from prophet import Prophet"
   ]
  },
  {
   "cell_type": "code",
   "execution_count": 3,
   "metadata": {},
   "outputs": [],
   "source": [
    "# Baixar dados dos últimos quatro anos para uma ação específica\n",
    "dados = yf.download('JNJ', start='2020-01-01', end='2023-12-31', progress=False)\n",
    "dados = dados.reset_index()"
   ]
  },
  {
   "cell_type": "code",
   "execution_count": 6,
   "metadata": {},
   "outputs": [],
   "source": [
    "# Vamos dividir os dados em treino (até o final do primeiro semestre de 2023) e teste (segundo semestre de 2023)\n",
    "dados_treino = dados[dados['Date'] < '2023-07-31']\n",
    "dados_teste = dados[dados['Date'] >= '2023-07-31']"
   ]
  },
  {
   "cell_type": "code",
   "execution_count": 7,
   "metadata": {},
   "outputs": [],
   "source": [
    "# Preparando os dados para o FBProphet\n",
    "dados_prophet_treino = dados_treino[['Date','Close']].rename(columns={'Date': 'ds', 'Close': 'y'})"
   ]
  },
  {
   "cell_type": "code",
   "execution_count": null,
   "metadata": {},
   "outputs": [],
   "source": [
    "# Criar e treinar o modelo\n",
    "modelo = Prophet(weekly_seasonality=True,\n",
    "                 yearly_seasonality=True,\n",
    "                 daily_seasonality=False)\n",
    "\n",
    "modelo.add_country_holidays(country_name='US')\n",
    "\n",
    "modelo.fit(dados_prophet_treino)"
   ]
  },
  {
   "cell_type": "code",
   "execution_count": 10,
   "metadata": {},
   "outputs": [],
   "source": [
    "# Criar datas futuras para previsão até o final de 2023\n",
    "futuro = modelo.make_future_dataframe(periods=150)\n",
    "previsao = modelo.predict(futuro)"
   ]
  },
  {
   "cell_type": "code",
   "execution_count": null,
   "metadata": {},
   "outputs": [],
   "source": [
    "# Plotar os dados treino, teste e previsão\n",
    "plt.figure(figsize=(14,8))\n",
    "plt.plot(dados_treino['Date'], dados_treino['Close'], label='Dados de Treino', color='blue')\n",
    "plt.plot(dados_teste['Date'], dados_teste['Close'], label='Dados Reais (Teste)', color='green')\n",
    "plt.plot(previsao['ds'], previsao['yhat'], label='Previsão', color='orange', linestyle='--')\n",
    "\n",
    "plt.axvline(dados_treino['Date'].max(), color='red', linestyle='--', label='Início da Previsão')\n",
    "plt.xlabel('Data')\n",
    "plt.ylabel('Preço do Fechamento')\n",
    "plt.title('Previsão de Preço de Fechamento vs Dados Reais')\n",
    "plt.legend()\n",
    "plt.show()"
   ]
  }
 ],
 "metadata": {
  "kernelspec": {
   "display_name": "Python 3",
   "language": "python",
   "name": "python3"
  },
  "language_info": {
   "codemirror_mode": {
    "name": "ipython",
    "version": 3
   },
   "file_extension": ".py",
   "mimetype": "text/x-python",
   "name": "python",
   "nbconvert_exporter": "python",
   "pygments_lexer": "ipython3",
   "version": "3.12.2"
  }
 },
 "nbformat": 4,
 "nbformat_minor": 2
}
