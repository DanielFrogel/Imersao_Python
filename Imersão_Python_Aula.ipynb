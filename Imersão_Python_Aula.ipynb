{
  "nbformat": 4,
  "nbformat_minor": 0,
  "metadata": {
    "colab": {
      "provenance": [],
      "authorship_tag": "ABX9TyOJyY1xxhos/Sj0J0C1QLia",
      "include_colab_link": true
    },
    "kernelspec": {
      "name": "python3",
      "display_name": "Python 3"
    },
    "language_info": {
      "name": "python"
    }
  },
  "cells": [
    {
      "cell_type": "markdown",
      "metadata": {
        "id": "view-in-github",
        "colab_type": "text"
      },
      "source": [
        "<a href=\"https://colab.research.google.com/github/DanielFrogel/Imersao_Python/blob/main/Imers%C3%A3o_Python_Aula.ipynb\" target=\"_parent\"><img src=\"https://colab.research.google.com/assets/colab-badge.svg\" alt=\"Open In Colab\"/></a>"
      ]
    },
    {
      "cell_type": "code",
      "execution_count": null,
      "metadata": {
        "id": "x1etUKf2O714"
      },
      "outputs": [],
      "source": []
    },
    {
      "cell_type": "markdown",
      "source": [
        "**Aula 2 - Importação**"
      ],
      "metadata": {
        "id": "BZGfM1MzO8rW"
      }
    },
    {
      "cell_type": "code",
      "source": [
        "import pandas as pd"
      ],
      "metadata": {
        "id": "Kq8SH7DbO_u-"
      },
      "execution_count": null,
      "outputs": []
    },
    {
      "cell_type": "code",
      "source": [
        "df_principal = pd.read_excel('/content/acoes_pura.xlsx', sheet_name='Principal')\n",
        "\n",
        "df_principal.head"
      ],
      "metadata": {
        "id": "dlK9PekfQM1E"
      },
      "execution_count": null,
      "outputs": []
    },
    {
      "cell_type": "code",
      "source": [
        "df_total_acoes = pd.read_excel('/content/acoes_pura.xlsx', sheet_name='Total_de_acoes')\n",
        "\n",
        "df_total_acoes.head(10)"
      ],
      "metadata": {
        "id": "b5Zs3bdHpEI7"
      },
      "execution_count": null,
      "outputs": []
    },
    {
      "cell_type": "code",
      "source": [
        "df_ticker = pd.read_excel('/content/acoes_pura.xlsx', sheet_name='Ticker')\n",
        "\n",
        "df_ticker.head(10)"
      ],
      "metadata": {
        "id": "o-OvFh89oXp0"
      },
      "execution_count": null,
      "outputs": []
    },
    {
      "cell_type": "code",
      "source": [
        "df_chatgpt = pd.read_excel('/content/acoes_pura.xlsx', sheet_name='ChatGPT')\n",
        "\n",
        "df_chatgpt.head(10)"
      ],
      "metadata": {
        "id": "n3FoEDacpOpc"
      },
      "execution_count": null,
      "outputs": []
    }
  ]
}